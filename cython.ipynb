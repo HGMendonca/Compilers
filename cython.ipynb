{
 "cells": [
  {
   "cell_type": "code",
   "execution_count": 1,
   "metadata": {},
   "outputs": [],
   "source": [
    "import numpy as np\n",
    "from RK4 import RungeKutta4"
   ]
  },
  {
   "cell_type": "code",
   "execution_count": 2,
   "metadata": {},
   "outputs": [],
   "source": [
    "def lotkavolterra(t, y):\n",
    "    x = y[0]\n",
    "    z = y[1]\n",
    "    f = np.array([alpha*x - beta*x*z, delta*x*z - gamma*z])  # f[dx/dt, dz/dt]\n",
    "    return f\n",
    "\n",
    "\n",
    "alpha = 1.5\n",
    "beta = 0.4\n",
    "delta = 0.1\n",
    "gamma = 0.4\n",
    "\n",
    "time = [np.linspace(0, 100, 1000), np.linspace(0, 100, 5000), np.linspace(0, 100, 10000), np.linspace(0, 100, 20000)]\n",
    "y0 = np.array([10, 10])"
   ]
  },
  {
   "cell_type": "code",
   "execution_count": 3,
   "metadata": {},
   "outputs": [
    {
     "name": "stdout",
     "output_type": "stream",
     "text": [
      "24.1 ms ± 1.23 ms per loop (mean ± std. dev. of 7 runs, 10 loops each)\n",
      "122 ms ± 1.98 ms per loop (mean ± std. dev. of 7 runs, 10 loops each)\n",
      "246 ms ± 15.2 ms per loop (mean ± std. dev. of 7 runs, 1 loop each)\n",
      "473 ms ± 9.99 ms per loop (mean ± std. dev. of 7 runs, 1 loop each)\n"
     ]
    }
   ],
   "source": [
    "t = %timeit -o RungeKutta4(lotkavolterra, y0, time[0])\n",
    "t0 = np.mean(t.timings)\n",
    "t = %timeit -o RungeKutta4(lotkavolterra, y0, time[1])\n",
    "t1 = np.mean(t.timings)\n",
    "t = %timeit -o RungeKutta4(lotkavolterra, y0, time[2])\n",
    "t2 = np.mean(t.timings)\n",
    "t = %timeit -o RungeKutta4(lotkavolterra, y0, time[3])\n",
    "t3 = np.mean(t.timings)"
   ]
  },
  {
   "cell_type": "code",
   "execution_count": 4,
   "metadata": {},
   "outputs": [],
   "source": [
    "np.savez('time_cython.npz', t0=t0, t1=t1,t2=t2, t3=t3)"
   ]
  }
 ],
 "metadata": {
  "kernelspec": {
   "display_name": "base",
   "language": "python",
   "name": "python3"
  },
  "language_info": {
   "codemirror_mode": {
    "name": "ipython",
    "version": 3
   },
   "file_extension": ".py",
   "mimetype": "text/x-python",
   "name": "python",
   "nbconvert_exporter": "python",
   "pygments_lexer": "ipython3",
   "version": "3.10.9"
  },
  "orig_nbformat": 4
 },
 "nbformat": 4,
 "nbformat_minor": 2
}
