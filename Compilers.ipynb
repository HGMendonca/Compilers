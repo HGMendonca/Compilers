{
 "cells": [
  {
   "attachments": {},
   "cell_type": "markdown",
   "metadata": {},
   "source": [
    "Runge-Kutta method: Let an initial value problem be specified as follows: \n",
    "\n",
    "$$\\frac{dy}{dt} = f(t, y), y(t_0)= y_0$$\n",
    "\n",
    "and the method are given by:\n",
    "$$y_{n+1} = y_n + \\frac{h}{6}(k_1+2k_2+2k_3+k_4)$$\n",
    "$$t_{n+1}=t_n+h$$\n",
    "with\n",
    "$$k_1 = f(t_n,y_n)$$\n",
    "$$k_2 = f(t_n+h/2, y_n+hk_1/2)$$\n",
    "$$k_3 = f(t_n+h/2,y_n+hk_2/2)$$\n",
    "$$k_4 = f(t_n+h, y_n+hk_3)"
   ]
  },
  {
   "attachments": {},
   "cell_type": "markdown",
   "metadata": {},
   "source": [
    "Lotka-Volterra ODE\n",
    "$$\\frac{dx}{dt} = x (\\alpha -\\beta y)$$\n",
    "$$\\frac{dy}{dt} = y (\\delta x -\\gamma)$$\n",
    "\n",
    "- $\\alpha$ rate of growth of the prey population;\n",
    "- $\\gamma$ rate of decrease in the predator population;\n",
    "- $\\beta$ rate of decrease of the prey population;\n",
    "- $\\delta$ rate of growth of the predator population."
   ]
  },
  {
   "attachments": {},
   "cell_type": "markdown",
   "metadata": {},
   "source": [
    "----------------------------------------------------------------------------------------------------------------------------------------------"
   ]
  },
  {
   "attachments": {},
   "cell_type": "markdown",
   "metadata": {},
   "source": [
    "<img src=\"https://upload.wikimedia.org/wikipedia/commons/thumb/f/fe/Numba_logo.svg/800px-Numba_logo.svg.png\" width=\"55\" height=\"55\">\n"
   ]
  },
  {
   "attachments": {},
   "cell_type": "markdown",
   "metadata": {},
   "source": [
    "Numba is a compiler for Python array and numerical functions that gives you the power to speed up your applications with high performance functions written directly in Python.\n",
    "\n",
    "Numba generates optimized machine code from pure Python code using the LLVM compiler infrastructure*. With a few simple annotations, array-oriented and math-heavy Python code can be just-in-time optimized to performance similar as C, C++ and Fortran, without having to switch languages or Python interpreters.\n",
    "\n",
    "To teste the numba compiler we create the file called numba.ipynb. To run the compiler we need to use the command \n",
    "\n",
    "`from numba import jit`.\n",
    "\n",
    "In general to use numba we can write the command decorator `@jit` on the top of the code and work very well. However, if the code is a function calling another function the command doesn't work. In order to work we need to add `@jit(forceobj=True)`, this ensures that the function is always compiled in object mode.\n",
    "\n",
    "The result are in \"numba.ipynb\" to Lotka-Volterra problem."
   ]
  },
  {
   "attachments": {},
   "cell_type": "markdown",
   "metadata": {},
   "source": [
    "LLVM compiler infrastructure*: https://llvm.org/"
   ]
  },
  {
   "attachments": {},
   "cell_type": "markdown",
   "metadata": {},
   "source": [
    "----------------------------------------------------------------------------------------------------------------------------------------------"
   ]
  },
  {
   "attachments": {},
   "cell_type": "markdown",
   "metadata": {},
   "source": [
    "<img src=\"https://upload.wikimedia.org/wikipedia/commons/thumb/5/58/Cython_logo.svg/1280px-Cython_logo.svg.png\" width=\"100\" height=\"50\">\n"
   ]
  },
  {
   "attachments": {},
   "cell_type": "markdown",
   "metadata": {},
   "source": [
    "Cython is a programming language that makes writing C extensions for the Python language as easy as Python itself. It aims to become a superset of the Python language which gives it high-level, object-oriented, functional, and dynamic programming. Its main feature on top of these is support for optional static type declarations as part of the language. The source code gets translated into optimized C/C++ code and compiled as Python extension modules. This allows for both very fast program execution and tight integration with external C libraries, while keeping up the high programmer productivity for which the Python language is well known.\n",
    "\n",
    "To do the compilation, we need to write two files: _namefile_.pyx and setup.py.\n",
    "In setup.py, we write the cython structure which will provide the compilation, while the _namefile_.pyx are the code are must be compiled.\n",
    "\n",
    "The setuptools extension provided with Cython allows you to pass .pyx files directly to the Extension constructor in your setup file.\n",
    "\n",
    "For example, we implement Runge Kunta in  4-th order, so in setup.py we given by:\n",
    "\n",
    "`from setuptools import setup`\n",
    "\n",
    "`from Cython.Build import cythonize`\n",
    "\n",
    "`setup(`\n",
    "\n",
    "`    ext_modules = cythonize(\"RK4.pyx\")`\n",
    "\n",
    "`)`\n",
    "\n",
    "where the code are must be compiled called RK4.pyx. In this code we write the code a python like, but change the `.py` to `.pyx`.\n",
    "\n",
    "The next step are compile the code. To do that we need to open the terminal and run the command `python setup.py build_ext --inplace`. The command will run the setup.py and produce two files called: 1) RK4.c and 2) RK4.cpython-310-x86_64-linux-gnu.so. The first are the code RK4.py compiled in C and the second are the file \"which work like\" a Makefile.\n",
    "\n",
    "Now, we create the new file, called cython.ipynb, where we use the compiled code. To call the code compiled we need to use the command:\n",
    "\n",
    "`from RK4 import RungeKutta4`\n",
    "\n",
    "where RungeKutta4 are the function implemented in original code. The result are in \"cython.ipynb\" to Lotka-Volterra problem."
   ]
  },
  {
   "cell_type": "markdown",
   "metadata": {},
   "source": [
    "----------------------------------------------------------------------------------------------------------------------------------------------"
   ]
  },
  {
   "attachments": {},
   "cell_type": "markdown",
   "metadata": {},
   "source": [
    "<img src=\"https://exaloop.io/assets/img/codon.png\" width=\"110\" height=\"50\">\n"
   ]
  },
  {
   "attachments": {},
   "cell_type": "markdown",
   "metadata": {},
   "source": [
    "To install the codon compiler execute the command:\n",
    "\n",
    "`/bin/bash -c \"$(curl -fsSL https://exaloop.io/install.sh)\"`"
   ]
  },
  {
   "attachments": {},
   "cell_type": "markdown",
   "metadata": {},
   "source": [
    "<p align=\"center\">\n",
    "<img src=\"https://2500493564-files.gitbook.io/~/files/v0/b/gitbook-x-prod.appspot.com/o/spaces%2FbPghhfjcA34k1shtKVZ2%2Fuploads%2Fgit-blob-7f4244efa597ace9e7d52851abb4361a20169208%2Fpipeline.png?alt=media\" width=\"850\" height=\"650\">\n",
    "</p>"
   ]
  },
  {
   "attachments": {},
   "cell_type": "markdown",
   "metadata": {},
   "source": [
    "With the help: https://github.com/exaloop/codon/issues/109 , we can run the codon compiler using the python tools, like numpy. Following the path:\n",
    "\n",
    "1) `export PATH=~/.codon/bin:$PATH`\n",
    "2) `export PYTHONHOME=~/anaconda3`\n",
    "3) `export PYTHONPATH=~/anaconda3/bin/python3`\n",
    "4) `export CODON_PYTHON=~/anaconda3/lib/libpython3.10.so`\n",
    "\n",
    "Now compile and run the program with optimizations enabled (Codon doc's)\n",
    "\n",
    "5) `codon run -release codon.py`\n",
    "\n",
    "In my case, I put the 1. to 4. commands in file called \"config_codon.txt\" and execute this file using `. config.txt`, next execute the 5. command.\n",
    "\n",
    "OBS.: If in the code you don't need to use the python tool, you can just run the commands on terminal:\n",
    "1) `export PATH=~/.codon/bin:$PATH`\n",
    "2) `codon run -release codon.py`"
   ]
  },
  {
   "attachments": {},
   "cell_type": "markdown",
   "metadata": {},
   "source": [
    "----------------------------------------------------------------------------------------------------------------------------------------------"
   ]
  },
  {
   "attachments": {},
   "cell_type": "markdown",
   "metadata": {},
   "source": [
    "Before the introdution about the compiler's, we can run the code to compare the efficient between the compiler's. Using the statistical averangem we run the Lotka-Volterra with different discretization, for better visualization see the following figure."
   ]
  },
  {
   "cell_type": "code",
   "execution_count": 1,
   "metadata": {},
   "outputs": [],
   "source": [
    "import numpy as np\n",
    "import matplotlib.pyplot as plt\n",
    "\n",
    "plt.rcParams.update({'font.size': 15})\n",
    "plt.rcParams.update({'text.usetex': True})\n",
    "plt.rcParams.update({'text.latex.preamble' : r'\\usepackage{amsmath}'})"
   ]
  },
  {
   "attachments": {},
   "cell_type": "markdown",
   "metadata": {},
   "source": [
    "Importing data...\n",
    "\n",
    "Execution time for different values of $N= \\{1000, 5000, 10000, 20000\\}$ in four different runs:\n",
    "- No compilation;\n",
    "- Compilation via Numba;\n",
    "- Compilation via Cython;\n",
    "- Compilation via Codon;"
   ]
  },
  {
   "cell_type": "code",
   "execution_count": 11,
   "metadata": {},
   "outputs": [],
   "source": [
    "cythontime = np.load('time_cython.npz')\n",
    "numbatime = np.load('time_numba.npz')\n",
    "codontime = np.load('time_codon.npz')\n",
    "nocompiler = np.load('time_no_compiler.npz')"
   ]
  },
  {
   "cell_type": "code",
   "execution_count": 12,
   "metadata": {},
   "outputs": [],
   "source": [
    "N = [1000, 5000, 10000, 20000]\n",
    "list_c = [cythontime['t0'], cythontime['t1'], cythontime['t2'], cythontime['t3']]\n",
    "list_n = [numbatime['t0'], numbatime['t1'], numbatime['t2'], numbatime['t3']]\n",
    "list_co = [codontime['t0'], codontime['t1'], codontime['t2'], codontime['t3']]\n",
    "list_no = [nocompiler['t0'], nocompiler['t1'], nocompiler['t2'], nocompiler['t3']]"
   ]
  },
  {
   "cell_type": "code",
   "execution_count": 13,
   "metadata": {},
   "outputs": [
    {
     "data": {
      "image/png": "[encoded data removed]",
      "text/plain": [
       "<Figure size 640x480 with 1 Axes>"
      ]
     },
     "metadata": {},
     "output_type": "display_data"
    }
   ],
   "source": [
    "plt.plot(N, list_c, c='blue', label='Cython')\n",
    "plt.scatter(N, list_c, c='blue')\n",
    "plt.plot(N, list_n, c='green', label='Numba')\n",
    "plt.scatter(N, list_n, c='green')\n",
    "plt.plot(N, list_co, c='magenta', label='Codon')\n",
    "plt.scatter(N, list_co, c='magenta')\n",
    "plt.plot(N, list_no, c='black', label='No Compiler', ls='--')\n",
    "plt.scatter(N, list_no, c='black')\n",
    "\n",
    "plt.title(r'Runge Kutta $-$ Lotka-Volterra ODE')\n",
    "plt.xlabel('Discretization points')\n",
    "plt.ylabel('Time [s]')\n",
    "\n",
    "plt.xticks([1000, 5000, 10000, 15000, 20000])\n",
    "\n",
    "plt.legend(fontsize=13)\n",
    "plt.grid()\n",
    "plt.show()"
   ]
  },
  {
   "cell_type": "code",
   "execution_count": null,
   "metadata": {},
   "outputs": [],
   "source": []
  }
 ],
 "metadata": {
  "kernelspec": {
   "display_name": "base",
   "language": "python",
   "name": "python3"
  },
  "language_info": {
   "codemirror_mode": {
    "name": "ipython",
    "version": 3
   },
   "file_extension": ".py",
   "mimetype": "text/x-python",
   "name": "python",
   "nbconvert_exporter": "python",
   "pygments_lexer": "ipython3",
   "version": "3.10.11"
  },
  "orig_nbformat": 4
 },
 "nbformat": 4,
 "nbformat_minor": 2
}
