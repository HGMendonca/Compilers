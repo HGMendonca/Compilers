{
 "cells": [
  {
   "cell_type": "code",
   "execution_count": 1,
   "metadata": {},
   "outputs": [],
   "source": [
    "import numpy as np"
   ]
  },
  {
   "cell_type": "code",
   "execution_count": 2,
   "metadata": {},
   "outputs": [],
   "source": [
    "def RungeKutta4(edo_f, y0, tlist):\n",
    "    '''\n",
    "    Resolve a EDO dy/dt = edo(t, y) via método de Runge Kutta de 4° ordem.\n",
    "    Considerando a condição inicial y(t0) = y0,\n",
    "    sendo t0=tlist[0], com passos temporais dt=tlist[1]-tlist[0]\n",
    "    para todos os instantes de tempo t em tlist.\n",
    "\n",
    "    Neste código assumimos que y é um vetor cujas componentesse referem às incógnitas da EDO.\n",
    "\n",
    "    Entrada\n",
    "    -------\n",
    "    edo_f: função de (t,y) representando o lado direito da EDO\n",
    "    y0: (array) com os valores das condições iniciais\n",
    "    tlist: lista de instantes de tempo\n",
    "\n",
    "    Saída\n",
    "    -----\n",
    "    Matriz (array) com a solução y(t). Cada linha da matriz\n",
    "    se refere a um instante de tempo de tlist, e as colunas\n",
    "    representam as componentes do vetor y.\n",
    "    '''\n",
    "\n",
    "    dt = tlist[1] - tlist[0]\n",
    "    y = np.zeros([len(tlist), len(y0)])\n",
    "    y[0] = y0\n",
    "    for i in range(len(tlist)-1):\n",
    "        k1 = edo_f(tlist[i], y[i])\n",
    "        k2 = edo_f(tlist[i] + dt/2, y[i] + dt*k1/2)\n",
    "        k3 = edo_f(tlist[i] + dt/2, y[i] + dt*k2/2)\n",
    "        k4 = edo_f(tlist[i] + dt, y[i] + dt*k3)\n",
    "        y[i+1] = y[i]+ (k1 + 2*k2 + 2*k3 + k4)*dt/6\n",
    "    return y"
   ]
  },
  {
   "cell_type": "code",
   "execution_count": 3,
   "metadata": {},
   "outputs": [],
   "source": [
    "def lotkavolterra(t, y):\n",
    "    x = y[0]\n",
    "    z = y[1]\n",
    "    f = np.array([alpha*x - beta*x*z, delta*x*z - gamma*z])  # f[dx/dt, dz/dt]\n",
    "    return f\n",
    "\n",
    "\n",
    "alpha = 1.5\n",
    "beta = 0.4\n",
    "delta = 0.1\n",
    "gamma = 0.4\n",
    "\n",
    "time = time = [np.linspace(0, 100, 1000), np.linspace(0, 100, 5000), np.linspace(0, 100, 10000), np.linspace(0, 100, 20000)]\n",
    "y0 = np.array([10, 10])"
   ]
  },
  {
   "cell_type": "code",
   "execution_count": 4,
   "metadata": {},
   "outputs": [
    {
     "name": "stdout",
     "output_type": "stream",
     "text": [
      "48.8 ms ± 4.58 ms per loop (mean ± std. dev. of 7 runs, 10 loops each)\n",
      "229 ms ± 30.4 ms per loop (mean ± std. dev. of 7 runs, 1 loop each)\n",
      "598 ms ± 81.5 ms per loop (mean ± std. dev. of 7 runs, 1 loop each)\n",
      "1 s ± 92.1 ms per loop (mean ± std. dev. of 7 runs, 1 loop each)\n"
     ]
    }
   ],
   "source": [
    "t = %timeit -o RungeKutta4(lotkavolterra, y0, time[0])\n",
    "t0 = np.mean(t.timings)\n",
    "t = %timeit -o RungeKutta4(lotkavolterra, y0, time[1])\n",
    "t1 = np.mean(t.timings)\n",
    "t = %timeit -o RungeKutta4(lotkavolterra, y0, time[2])\n",
    "t2 = np.mean(t.timings)\n",
    "t = %timeit -o RungeKutta4(lotkavolterra, y0, time[3])\n",
    "t3 = np.mean(t.timings)"
   ]
  },
  {
   "cell_type": "code",
   "execution_count": 5,
   "metadata": {},
   "outputs": [],
   "source": [
    "np.savez('time_no_compiler.npz', t0=t0, t1=t1,t2=t2, t3=t3)"
   ]
  },
  {
   "cell_type": "code",
   "execution_count": null,
   "metadata": {},
   "outputs": [],
   "source": []
  }
 ],
 "metadata": {
  "kernelspec": {
   "display_name": "base",
   "language": "python",
   "name": "python3"
  },
  "language_info": {
   "codemirror_mode": {
    "name": "ipython",
    "version": 3
   },
   "file_extension": ".py",
   "mimetype": "text/x-python",
   "name": "python",
   "nbconvert_exporter": "python",
   "pygments_lexer": "ipython3",
   "version": "3.10.9"
  },
  "orig_nbformat": 4
 },
 "nbformat": 4,
 "nbformat_minor": 2
}
